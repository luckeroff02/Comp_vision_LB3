{
  "nbformat": 4,
  "nbformat_minor": 0,
  "metadata": {
    "colab": {
      "provenance": [],
      "authorship_tag": "ABX9TyMtVXtcnMwSFb+s+hG6AVse",
      "include_colab_link": true
    },
    "kernelspec": {
      "name": "python3",
      "display_name": "Python 3"
    },
    "language_info": {
      "name": "python"
    }
  },
  "cells": [
    {
      "cell_type": "markdown",
      "metadata": {
        "id": "view-in-github",
        "colab_type": "text"
      },
      "source": [
        "<a href=\"https://colab.research.google.com/github/LugenderGeist/computer_vision_3/blob/main/computer_vision_3.ipynb\" target=\"_parent\"><img src=\"https://colab.research.google.com/assets/colab-badge.svg\" alt=\"Open In Colab\"/></a>"
      ]
    },
    {
      "cell_type": "markdown",
      "source": [
        "# Лабораторная работа №3  \n",
        "Целью лабораторной работы является нахождение движущихся объектов на видео. Для этого необходимо:\n",
        "- Обработать кадры видео с помощью фильтров\n",
        "- Вычислить среднее значение пикселей на видео\n",
        "- Создать изображение со средними значениями пикселей, чтобы определить фон\n",
        "- Вычесть фон из каждого кадра, чтобы найти отличия: разность между пикселями считается нулевой при заданном пороге, при переходе через порог - пиксели относятся к искомому объекту\n",
        "- Получить бинаризованные изображения, где видно объект\n",
        "- Найденный объект выделить прямоугольником, можно через опен сиви\n",
        "- Из полученных бинаризованных кадров сложить видео"
      ],
      "metadata": {
        "id": "DZPFLPHmlE3c"
      }
    },
    {
      "cell_type": "code",
      "source": [
        "import cv2\n",
        "import numpy as np\n",
        "from google.colab import drive\n",
        "from IPython.display import clear_output, Image, display\n",
        "from google.colab.patches import cv2_imshow\n",
        "\n",
        "drive.mount('/content/drive')"
      ],
      "metadata": {
        "colab": {
          "base_uri": "https://localhost:8080/"
        },
        "id": "XUkc_rKeBKtq",
        "outputId": "7c21ee23-e111-499c-8a2b-4e1b7743e8d2"
      },
      "execution_count": 2,
      "outputs": [
        {
          "output_type": "stream",
          "name": "stdout",
          "text": [
            "Mounted at /content/drive\n"
          ]
        }
      ]
    },
    {
      "cell_type": "markdown",
      "source": [
        "Сначала выведем видео, на котором grayscale останется только на движущемся объекте, а фон станет черным (так проще визуально понять, как определяется объект). Изменяя параметры и применяя морфологические операции и фильтр Гаусса приблизим распознавание к желаемому."
      ],
      "metadata": {
        "id": "4_HW9ru8bDz8"
      }
    },
    {
      "cell_type": "code",
      "source": [
        "# Параметры обработки видео\n",
        "params = {\n",
        "    \"input_file\": '/content/drive/MyDrive/Colab Notebooks/computer_vision/video.mp4',  # Путь к входному видео\n",
        "    \"output_file\": \"output_video.mp4\",  # Имя выходного файла\n",
        "    \"codec\": 'mp4v',  # Кодек для записи видео\n",
        "    \"isColor\": False,  # Цветность выходного видео (False для grayscale)\n",
        "    \"background_subtractor\": {\n",
        "        \"history\": 1000,  # Размер истории для модели фона\n",
        "        \"varThreshold\": 520,  # Порог чувствительности\n",
        "        \"detectShadows\": True  # Обнаружение теней\n",
        "    },\n",
        "    \"morphology\": {\n",
        "        \"kernel_size\": (5, 5),  # Размер ядра для морфологических операций\n",
        "        \"apply_open\": True,  # Будет ли применено MORPH_OPEN\n",
        "        \"apply_close\": False  # Будет ли применено MORPH_CLOSE\n",
        "    },\n",
        "    \"blur\": {\n",
        "        \"apply\": False,  # Нужен ли фильтр Гаусса\n",
        "        \"kernel_size\": (3, 3)  # Размер ядра для размытия\n",
        "    }\n",
        "}\n",
        "\n",
        "cap = cv2.VideoCapture(params[\"input_file\"])\n",
        "\n",
        "# Получаем параметры исходного видео\n",
        "frame_width = int(cap.get(cv2.CAP_PROP_FRAME_WIDTH))\n",
        "frame_height = int(cap.get(cv2.CAP_PROP_FRAME_HEIGHT))\n",
        "fps = cap.get(cv2.CAP_PROP_FPS)  # Количество кадров в секунду\n",
        "\n",
        "# Определяем кодек и создаем объект VideoWriter для записи видео\n",
        "fourcc = cv2.VideoWriter_fourcc(*params[\"codec\"])\n",
        "out = cv2.VideoWriter(params[\"output_file\"], fourcc, fps, (frame_width, frame_height), params[\"isColor\"])\n",
        "\n",
        "# Создаем объект для вычитания фона\n",
        "fgbg = cv2.createBackgroundSubtractorMOG2(\n",
        "    history=params[\"background_subtractor\"][\"history\"],\n",
        "    varThreshold=params[\"background_subtractor\"][\"varThreshold\"],\n",
        "    detectShadows=params[\"background_subtractor\"][\"detectShadows\"]\n",
        ")\n",
        "\n",
        "# Инициализируем счетчик кадров\n",
        "frame_count = 0\n",
        "\n",
        "# Цикл для чтения и обработки каждого кадра\n",
        "while True:\n",
        "    ret, frame = cap.read()\n",
        "    if not ret:\n",
        "        print(\"Видео завершено\")\n",
        "        break\n",
        "\n",
        "    frame_count += 1\n",
        "\n",
        "    # Каждый кадр переводим в grayscale\n",
        "    gray_frame = cv2.cvtColor(frame, cv2.COLOR_BGR2GRAY)\n",
        "\n",
        "    # Применяем вычитание фона для создания маски\n",
        "    fg_mask = fgbg.apply(gray_frame)\n",
        "\n",
        "    # Морфологические операции\n",
        "    if params[\"morphology\"][\"apply_open\"] or params[\"morphology\"][\"apply_close\"]:\n",
        "        kernel = cv2.getStructuringElement(cv2.MORPH_ELLIPSE, params[\"morphology\"][\"kernel_size\"])\n",
        "        if params[\"morphology\"][\"apply_open\"]:\n",
        "            fg_mask = cv2.morphologyEx(fg_mask, cv2.MORPH_OPEN, kernel)  # Удаляем шумы\n",
        "        if params[\"morphology\"][\"apply_close\"]:\n",
        "            fg_mask = cv2.morphologyEx(fg_mask, cv2.MORPH_CLOSE, kernel)  # Заполняем пробелы\n",
        "\n",
        "    # Фильтр Гаусса\n",
        "    if params[\"blur\"][\"apply\"]:\n",
        "        fg_mask = cv2.GaussianBlur(fg_mask, params[\"blur\"][\"kernel_size\"], 0)\n",
        "\n",
        "    # Накладываем маску для выделения движущихся объектов\n",
        "    motion_frame = cv2.bitwise_and(gray_frame, gray_frame, mask=fg_mask)\n",
        "\n",
        "    # Преобразуем кадр в 8-битное изображение\n",
        "    motion_frame = np.uint8(motion_frame)\n",
        "\n",
        "    # Записываем обработанный кадр в выходной файл\n",
        "    out.write(motion_frame)\n",
        "\n",
        "    # Очищаем вывод\n",
        "    clear_output(wait=True)\n",
        "\n",
        "# Освобождаем ресурсы\n",
        "cap.release()\n",
        "out.release()\n",
        "cv2.destroyAllWindows()\n",
        "\n",
        "print(f\"Обработка завершена. Всего обработано кадров: {frame_count}\")\n",
        "\n",
        "# Скачивание видео\n",
        "from google.colab import files\n",
        "files.download(params[\"output_file\"])"
      ],
      "metadata": {
        "colab": {
          "base_uri": "https://localhost:8080/",
          "height": 52
        },
        "id": "Fn-eHN3n-oHl",
        "outputId": "5fe81de0-955e-4e4e-a923-49ad9c937685"
      },
      "execution_count": 28,
      "outputs": [
        {
          "output_type": "stream",
          "name": "stdout",
          "text": [
            "Видео завершено\n",
            "Обработка завершена. Всего обработано кадров: 172\n"
          ]
        },
        {
          "output_type": "display_data",
          "data": {
            "text/plain": [
              "<IPython.core.display.Javascript object>"
            ],
            "application/javascript": [
              "\n",
              "    async function download(id, filename, size) {\n",
              "      if (!google.colab.kernel.accessAllowed) {\n",
              "        return;\n",
              "      }\n",
              "      const div = document.createElement('div');\n",
              "      const label = document.createElement('label');\n",
              "      label.textContent = `Downloading \"${filename}\": `;\n",
              "      div.appendChild(label);\n",
              "      const progress = document.createElement('progress');\n",
              "      progress.max = size;\n",
              "      div.appendChild(progress);\n",
              "      document.body.appendChild(div);\n",
              "\n",
              "      const buffers = [];\n",
              "      let downloaded = 0;\n",
              "\n",
              "      const channel = await google.colab.kernel.comms.open(id);\n",
              "      // Send a message to notify the kernel that we're ready.\n",
              "      channel.send({})\n",
              "\n",
              "      for await (const message of channel.messages) {\n",
              "        // Send a message to notify the kernel that we're ready.\n",
              "        channel.send({})\n",
              "        if (message.buffers) {\n",
              "          for (const buffer of message.buffers) {\n",
              "            buffers.push(buffer);\n",
              "            downloaded += buffer.byteLength;\n",
              "            progress.value = downloaded;\n",
              "          }\n",
              "        }\n",
              "      }\n",
              "      const blob = new Blob(buffers, {type: 'application/binary'});\n",
              "      const a = document.createElement('a');\n",
              "      a.href = window.URL.createObjectURL(blob);\n",
              "      a.download = filename;\n",
              "      div.appendChild(a);\n",
              "      a.click();\n",
              "      div.remove();\n",
              "    }\n",
              "  "
            ]
          },
          "metadata": {}
        },
        {
          "output_type": "display_data",
          "data": {
            "text/plain": [
              "<IPython.core.display.Javascript object>"
            ],
            "application/javascript": [
              "download(\"download_ff81f3b3-dbe4-4398-88d5-9ecb02ad274f\", \"output_video.mp4\", 322915)"
            ]
          },
          "metadata": {}
        }
      ]
    },
    {
      "cell_type": "markdown",
      "source": [
        "После того, как объект стал распознаваться достаточно хорошо - создаем рамку вокруг объекта."
      ],
      "metadata": {
        "id": "Zx6gcFYwbeA5"
      }
    },
    {
      "cell_type": "code",
      "source": [
        "# Параметры обработки видео\n",
        "params[\"isColor\"] = True\n",
        "\n",
        "# Создаем объект VideoCapture\n",
        "cap = cv2.VideoCapture(params[\"input_file\"])\n",
        "\n",
        "# Получаем параметры исходного видео\n",
        "frame_width = int(cap.get(cv2.CAP_PROP_FRAME_WIDTH))\n",
        "frame_height = int(cap.get(cv2.CAP_PROP_FRAME_HEIGHT))\n",
        "fps = cap.get(cv2.CAP_PROP_FPS)  # Количество кадров в секунду\n",
        "\n",
        "# Определяем кодек и создаем объект VideoWriter для записи видео\n",
        "fourcc = cv2.VideoWriter_fourcc(*params[\"codec\"])\n",
        "out = cv2.VideoWriter(params[\"output_file\"], fourcc, fps, (frame_width, frame_height), params[\"isColor\"])\n",
        "\n",
        "# Создаем объект для вычитания фона\n",
        "fgbg = cv2.createBackgroundSubtractorMOG2(\n",
        "    history=params[\"background_subtractor\"][\"history\"],\n",
        "    varThreshold=params[\"background_subtractor\"][\"varThreshold\"],\n",
        "    detectShadows=params[\"background_subtractor\"][\"detectShadows\"]\n",
        ")\n",
        "\n",
        "# Инициализируем счетчик кадров\n",
        "frame_count = 0\n",
        "\n",
        "# Цикл для чтения и обработки каждого кадра\n",
        "while True:\n",
        "    ret, frame = cap.read()\n",
        "    if not ret:\n",
        "        print(\"Видео завершено\")\n",
        "        break\n",
        "\n",
        "    frame_count += 1\n",
        "\n",
        "    # Каждый кадр переводим в grayscale\n",
        "    gray_frame = cv2.cvtColor(frame, cv2.COLOR_BGR2GRAY)\n",
        "\n",
        "    # Применяем вычитание фона для создания маски\n",
        "    fg_mask = fgbg.apply(gray_frame)\n",
        "\n",
        "    # Морфологические операции\n",
        "    if params[\"morphology\"][\"apply_open\"] or params[\"morphology\"][\"apply_close\"]:\n",
        "        kernel = cv2.getStructuringElement(cv2.MORPH_ELLIPSE, params[\"morphology\"][\"kernel_size\"])\n",
        "        if params[\"morphology\"][\"apply_open\"]:\n",
        "            fg_mask = cv2.morphologyEx(fg_mask, cv2.MORPH_OPEN, kernel)  # Удаляем шумы\n",
        "        if params[\"morphology\"][\"apply_close\"]:\n",
        "            fg_mask = cv2.morphologyEx(fg_mask, cv2.MORPH_CLOSE, kernel)  # Заполняем пробелы\n",
        "\n",
        "    # Находим контуры на маске\n",
        "    contours, _ = cv2.findContours(fg_mask, cv2.RETR_EXTERNAL, cv2.CHAIN_APPROX_SIMPLE)\n",
        "\n",
        "    # Рисуем рамки вокруг найденных объектов\n",
        "    for contour in contours:\n",
        "        # Вычисляем площадь контура и игнорируем маленькие шумы\n",
        "        if cv2.contourArea(contour) < 500:  # Минимальная площадь объекта\n",
        "            continue\n",
        "\n",
        "        # Вычисляем ограничивающий прямоугольник\n",
        "        x, y, w, h = cv2.boundingRect(contour)\n",
        "\n",
        "        # Рисуем прямоугольник на исходном кадре\n",
        "        cv2.rectangle(frame, (x, y), (x + w, y + h), (0, 255, 255), 2)\n",
        "\n",
        "    # Записываем обработанный кадр в выходной файл\n",
        "    out.write(frame)\n",
        "\n",
        "    # Очищаем вывод\n",
        "    clear_output(wait=True)\n",
        "\n",
        "# Освобождаем ресурсы\n",
        "cap.release()\n",
        "out.release()\n",
        "cv2.destroyAllWindows()\n",
        "\n",
        "print(f\"Обработка завершена. Всего обработано кадров: {frame_count}\")\n",
        "\n",
        "# Скачивание видео\n",
        "from google.colab import files\n",
        "files.download(params[\"output_file\"])"
      ],
      "metadata": {
        "colab": {
          "base_uri": "https://localhost:8080/",
          "height": 52
        },
        "id": "3Jj0OlNH43Of",
        "outputId": "22511d6a-b2d6-48d3-b20c-58f3051ab4a0"
      },
      "execution_count": 30,
      "outputs": [
        {
          "output_type": "stream",
          "name": "stdout",
          "text": [
            "Видео завершено\n",
            "Обработка завершена. Всего обработано кадров: 172\n"
          ]
        },
        {
          "output_type": "display_data",
          "data": {
            "text/plain": [
              "<IPython.core.display.Javascript object>"
            ],
            "application/javascript": [
              "\n",
              "    async function download(id, filename, size) {\n",
              "      if (!google.colab.kernel.accessAllowed) {\n",
              "        return;\n",
              "      }\n",
              "      const div = document.createElement('div');\n",
              "      const label = document.createElement('label');\n",
              "      label.textContent = `Downloading \"${filename}\": `;\n",
              "      div.appendChild(label);\n",
              "      const progress = document.createElement('progress');\n",
              "      progress.max = size;\n",
              "      div.appendChild(progress);\n",
              "      document.body.appendChild(div);\n",
              "\n",
              "      const buffers = [];\n",
              "      let downloaded = 0;\n",
              "\n",
              "      const channel = await google.colab.kernel.comms.open(id);\n",
              "      // Send a message to notify the kernel that we're ready.\n",
              "      channel.send({})\n",
              "\n",
              "      for await (const message of channel.messages) {\n",
              "        // Send a message to notify the kernel that we're ready.\n",
              "        channel.send({})\n",
              "        if (message.buffers) {\n",
              "          for (const buffer of message.buffers) {\n",
              "            buffers.push(buffer);\n",
              "            downloaded += buffer.byteLength;\n",
              "            progress.value = downloaded;\n",
              "          }\n",
              "        }\n",
              "      }\n",
              "      const blob = new Blob(buffers, {type: 'application/binary'});\n",
              "      const a = document.createElement('a');\n",
              "      a.href = window.URL.createObjectURL(blob);\n",
              "      a.download = filename;\n",
              "      div.appendChild(a);\n",
              "      a.click();\n",
              "      div.remove();\n",
              "    }\n",
              "  "
            ]
          },
          "metadata": {}
        },
        {
          "output_type": "display_data",
          "data": {
            "text/plain": [
              "<IPython.core.display.Javascript object>"
            ],
            "application/javascript": [
              "download(\"download_acad2187-e07c-47b7-9dd2-a1737c24f19a\", \"output_video.mp4\", 1272737)"
            ]
          },
          "metadata": {}
        }
      ]
    }
  ]
}